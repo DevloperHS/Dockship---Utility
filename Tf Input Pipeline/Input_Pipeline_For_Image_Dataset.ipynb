{
  "nbformat": 4,
  "nbformat_minor": 0,
  "metadata": {
    "colab": {
      "name": "Input Pipeline For Image Dataset.ipynb",
      "provenance": [],
      "collapsed_sections": []
    },
    "kernelspec": {
      "name": "python3",
      "display_name": "Python 3"
    },
    "language_info": {
      "name": "python"
    }
  },
  "cells": [
    {
      "cell_type": "markdown",
      "metadata": {
        "id": "N9hA229KNxBX"
      },
      "source": [
        "# Input Pipeline for image dataset\n",
        "- Building input pipeline for cats and dogs custom made dataset ,  using web scrapping"
      ]
    },
    {
      "cell_type": "markdown",
      "metadata": {
        "id": "SIcSKJrDN-9U"
      },
      "source": [
        "## Getting Data\n",
        "- Using `!git clone`  to load dataset from git hub"
      ]
    },
    {
      "cell_type": "code",
      "metadata": {
        "colab": {
          "base_uri": "https://localhost:8080/"
        },
        "id": "5B4-hfv0Npmg",
        "outputId": "90e386c8-84f4-4861-a040-6d738b814148"
      },
      "source": [
        "!git clone 'https://github.com/DevloperHS/Dockship---Utility.git' "
      ],
      "execution_count": null,
      "outputs": [
        {
          "output_type": "stream",
          "text": [
            "Cloning into 'Dockship---Utility'...\n",
            "remote: Enumerating objects: 145, done.\u001b[K\n",
            "remote: Counting objects: 100% (145/145), done.\u001b[K\n",
            "remote: Compressing objects: 100% (143/143), done.\u001b[K\n",
            "remote: Total 145 (delta 2), reused 136 (delta 0), pack-reused 0\u001b[K\n",
            "Receiving objects: 100% (145/145), 50.96 MiB | 42.57 MiB/s, done.\n",
            "Resolving deltas: 100% (2/2), done.\n"
          ],
          "name": "stdout"
        }
      ]
    },
    {
      "cell_type": "markdown",
      "metadata": {
        "id": "eCV_6up5OkXS"
      },
      "source": [
        "## Loading Data\n",
        "- Can be loaded using `tf.data.Dataset.list_files(filepath)`\n",
        "- Stores the image path and not the actual image\n",
        "- `*` means all and is **get all operators** for files path "
      ]
    },
    {
      "cell_type": "code",
      "metadata": {
        "id": "irOEMwUNO1rV"
      },
      "source": [
        "# importing modules\n",
        "import tensorflow as tf\n",
        "import numpy"
      ],
      "execution_count": null,
      "outputs": []
    },
    {
      "cell_type": "code",
      "metadata": {
        "colab": {
          "base_uri": "https://localhost:8080/"
        },
        "id": "71ItrzuvPDoi",
        "outputId": "02f656e4-a637-4d2c-9127-d54f99e3b20f"
      },
      "source": [
        "image_ds = tf.data.Dataset.list_files('/content/Dockship---Utility/Tf Input Pipeline/images/*/*', shuffle = 'False')\n",
        "\n",
        "# view the files\n",
        "for i in image_ds.take(5):\n",
        "    print(i.numpy())"
      ],
      "execution_count": null,
      "outputs": [
        {
          "output_type": "stream",
          "text": [
            "b'/content/Dockship---Utility/Tf Input Pipeline/images/cat/A cat appears to have caught the....jpg'\n",
            "b'/content/Dockship---Utility/Tf Input Pipeline/images/dog/Rottweiler Dog Breed Information....jpg'\n",
            "b'/content/Dockship---Utility/Tf Input Pipeline/images/dog/The History of Dogs as Pets - ABC News.jpg'\n",
            "b'/content/Dockship---Utility/Tf Input Pipeline/images/dog/Germany_ Dogs must be walked twice a....jpg'\n",
            "b'/content/Dockship---Utility/Tf Input Pipeline/images/cat/Thinking of getting a cat....png'\n"
          ],
          "name": "stdout"
        }
      ]
    },
    {
      "cell_type": "markdown",
      "metadata": {
        "id": "URSsRYbiQDs8"
      },
      "source": [
        "***only the image path is loaded***"
      ]
    },
    {
      "cell_type": "markdown",
      "metadata": {
        "id": "X0pcngIvQVvD"
      },
      "source": [
        "## Shuffling \n",
        "- shuffle using `shuffle(buffer_size)`\n",
        "- use use **buffer_size = 200**"
      ]
    },
    {
      "cell_type": "code",
      "metadata": {
        "colab": {
          "base_uri": "https://localhost:8080/"
        },
        "id": "eDOi6glIP9ft",
        "outputId": "046f63e1-23ef-420e-a127-934d4850ae6c"
      },
      "source": [
        "image_ds = image_ds.shuffle(200)\n",
        "\n",
        "#view files\n",
        "for i in image_ds.take(5):\n",
        "    print(i.numpy())"
      ],
      "execution_count": null,
      "outputs": [
        {
          "output_type": "stream",
          "text": [
            "b'/content/Dockship---Utility/Tf Input Pipeline/images/dog/Colitis in Dogs _ VCA Animal Hospital.jpg'\n",
            "b'/content/Dockship---Utility/Tf Input Pipeline/images/cat/Is My Cat Normal_.jpg'\n",
            "b'/content/Dockship---Utility/Tf Input Pipeline/images/dog/Carolina Dog Dog Breed Information....jpg'\n",
            "b'/content/Dockship---Utility/Tf Input Pipeline/images/dog/How My Dog Knows When I_m Sick - The....jpg'\n",
            "b'/content/Dockship---Utility/Tf Input Pipeline/images/dog/The Best Dogs of BBC Earth _ Top 5....jpg'\n"
          ],
          "name": "stdout"
        }
      ]
    },
    {
      "cell_type": "markdown",
      "metadata": {
        "id": "LzhirhJgQ5dR"
      },
      "source": [
        "***randomly arranged dataset - quite good in image data analysis.***"
      ]
    },
    {
      "cell_type": "markdown",
      "metadata": {
        "id": "YKRvolbsRb3o"
      },
      "source": [
        "## Split\n",
        "- Splitting dataset into train and test\n",
        "- use `take` to keep that much of data\n",
        "- use `skip` to pass the take ammount of data\n",
        "\n",
        "\n",
        "\n",
        "---\n",
        "Procedure\n",
        "* Create `class names`\n",
        "* Get the dataset size using `len()` keyword\n",
        "* Create a `train_size` which is some percent of the length/ coutn\n",
        "* Use the above two fn to make the split\n"
      ]
    },
    {
      "cell_type": "code",
      "metadata": {
        "id": "GhAyMXqcQzeP"
      },
      "source": [
        "class_names = ['cat', 'dog']"
      ],
      "execution_count": null,
      "outputs": []
    },
    {
      "cell_type": "code",
      "metadata": {
        "colab": {
          "base_uri": "https://localhost:8080/"
        },
        "id": "NwFC_fDeSkLS",
        "outputId": "535d431d-f6f0-4ff5-b6a5-5f74a4b1deec"
      },
      "source": [
        "img_count = len(image_ds)\n",
        "img_count"
      ],
      "execution_count": null,
      "outputs": [
        {
          "output_type": "execute_result",
          "data": {
            "text/plain": [
              "130"
            ]
          },
          "metadata": {
            "tags": []
          },
          "execution_count": 6
        }
      ]
    },
    {
      "cell_type": "code",
      "metadata": {
        "colab": {
          "base_uri": "https://localhost:8080/"
        },
        "id": "-UU4BPyiSn8k",
        "outputId": "1f6565e6-7c9d-4246-fdd7-5f78f3e7c1b0"
      },
      "source": [
        "train_size = int (img_count*0.8)  # 80\n",
        "train_size"
      ],
      "execution_count": null,
      "outputs": [
        {
          "output_type": "execute_result",
          "data": {
            "text/plain": [
              "104"
            ]
          },
          "metadata": {
            "tags": []
          },
          "execution_count": 7
        }
      ]
    },
    {
      "cell_type": "code",
      "metadata": {
        "id": "KzYkaRQ0S4x5"
      },
      "source": [
        "train_ds = image_ds.take(train_size)\n",
        "test_ds = image_ds.skip(train_size)"
      ],
      "execution_count": null,
      "outputs": []
    },
    {
      "cell_type": "code",
      "metadata": {
        "colab": {
          "base_uri": "https://localhost:8080/"
        },
        "id": "7I7AaAV9TTWJ",
        "outputId": "a83f201b-ab4d-42b6-bec6-02f7a47ea309"
      },
      "source": [
        "len(train_ds)\n"
      ],
      "execution_count": null,
      "outputs": [
        {
          "output_type": "execute_result",
          "data": {
            "text/plain": [
              "104"
            ]
          },
          "metadata": {
            "tags": []
          },
          "execution_count": 9
        }
      ]
    },
    {
      "cell_type": "code",
      "metadata": {
        "colab": {
          "base_uri": "https://localhost:8080/"
        },
        "id": "xmZ5Xsg7qEqS",
        "outputId": "8b1b1677-feb8-4a6f-89c1-b4ac97604db0"
      },
      "source": [
        "len(test_ds)"
      ],
      "execution_count": null,
      "outputs": [
        {
          "output_type": "execute_result",
          "data": {
            "text/plain": [
              "26"
            ]
          },
          "metadata": {
            "tags": []
          },
          "execution_count": 10
        }
      ]
    },
    {
      "cell_type": "markdown",
      "metadata": {
        "id": "kXXHbUGoTwoS"
      },
      "source": [
        "## Custom functions\n",
        "### Get Labels\n",
        "- Write a function which **get_labels** from all the files using `tf.strings.split(file_path, sperator)[n]`\n",
        "- use **os seprator** using `os.path.sep`\n",
        "\n",
        "### Read files\n",
        "- create a funtion which reads in file path , `read_files()`\n",
        "- It gets the labels from `get_labels(file_path)` fn \n",
        "- load the image using `tf.io.read_file(file_path)`\n",
        "- decode the image - here 'jpeg' using `tf.image.decode_jpeg(img)`\n",
        "- resize the image using `tf.image.resize(img , dim = [n,n])`\n",
        "and finally `return` image and labels\n",
        "\n",
        "\n",
        "### Scale images\n",
        "- create a func which takes in **images** & **labels** and return \n",
        "- `rescaled images` (values between 0-1) \n",
        "- `labels` as it is "
      ]
    },
    {
      "cell_type": "code",
      "metadata": {
        "colab": {
          "base_uri": "https://localhost:8080/",
          "height": 35
        },
        "id": "f8XiqNlVUScK",
        "outputId": "ea8b71bf-1d2d-4eac-f6ab-45993a0c84b5"
      },
      "source": [
        "# sample how fn will work\n",
        "s = '/content/Dockship---Utility/Tf Input Pipeline/images/dog/Maltese Dog Breed Information_ Pictures....jpg'\n",
        "s.split(\"/\")[-2]  # retrive the 2nd last element\n"
      ],
      "execution_count": null,
      "outputs": [
        {
          "output_type": "execute_result",
          "data": {
            "application/vnd.google.colaboratory.intrinsic+json": {
              "type": "string"
            },
            "text/plain": [
              "'dog'"
            ]
          },
          "metadata": {
            "tags": []
          },
          "execution_count": 11
        }
      ]
    },
    {
      "cell_type": "code",
      "metadata": {
        "id": "av9a_RY_TXkT"
      },
      "source": [
        "#get labels fn\n",
        "\n",
        "def get_labels(file_path):\n",
        "    import os \n",
        "    return tf.strings.split(file_path , os.path.sep)[-2]\n",
        "    "
      ],
      "execution_count": null,
      "outputs": []
    },
    {
      "cell_type": "code",
      "metadata": {
        "id": "crFostpUlYw5"
      },
      "source": [
        "def process_img(file_path):\n",
        "    label = get_labels(file_path)\n",
        "\n",
        "    img = tf.io.read_file(file_path)\n",
        "    img = tf.image.decode_jpeg(img)\n",
        "    img = tf.image.resize(img, [224,224])\n",
        "    return img , label\n"
      ],
      "execution_count": null,
      "outputs": []
    },
    {
      "cell_type": "code",
      "metadata": {
        "id": "mpRaht4-ZTx6"
      },
      "source": [
        "def scale(img, labels):\n",
        "    return img/255 , labels "
      ],
      "execution_count": null,
      "outputs": []
    },
    {
      "cell_type": "markdown",
      "metadata": {
        "id": "PzeEUUg3aw28"
      },
      "source": [
        "## Mapping\n",
        "- Using `map` to map the custom functions to to our dataset:\n",
        "-- `process_img()`\n",
        "-- `scale()`"
      ]
    },
    {
      "cell_type": "code",
      "metadata": {
        "id": "lFt7r--iqxXe"
      },
      "source": [
        "train_ds = train_ds.map(process_img)\n",
        "test_ds = test_ds.map(process_img)"
      ],
      "execution_count": null,
      "outputs": []
    },
    {
      "cell_type": "code",
      "metadata": {
        "colab": {
          "base_uri": "https://localhost:8080/"
        },
        "id": "DN4KqlKmrh31",
        "outputId": "735cbd66-483a-48da-8e82-18e804ddd67f"
      },
      "source": [
        "for img, label in train_ds.take(3):\n",
        "    print('*** Image', img.numpy()[0][0])\n",
        "    print('*** Label', label.numpy())"
      ],
      "execution_count": null,
      "outputs": [
        {
          "output_type": "stream",
          "text": [
            "*** Image [39. 22. 12.]\n",
            "*** Label b'dog'\n",
            "*** Image [87.35714  49.357143 30.357143]\n",
            "*** Label b'cat'\n",
            "*** Image [254. 254. 254.]\n",
            "*** Label b'dog'\n"
          ],
          "name": "stdout"
        }
      ]
    },
    {
      "cell_type": "code",
      "metadata": {
        "id": "1137RZgIbI-l"
      },
      "source": [
        "# here our file_path is train_ds itself as it hols all the file paths for training set\n",
        "train_ds = train_ds.map(scale)"
      ],
      "execution_count": null,
      "outputs": []
    },
    {
      "cell_type": "code",
      "metadata": {
        "colab": {
          "base_uri": "https://localhost:8080/"
        },
        "id": "eYzB6hKgcFu5",
        "outputId": "8add7c3c-f75b-476a-b52f-585c111f635b"
      },
      "source": [
        "for img, label in train_ds.take(3):\n",
        "    print('img: ', img.numpy()[0][0])\n",
        "    print('labels', label.numpy())\n"
      ],
      "execution_count": null,
      "outputs": [
        {
          "output_type": "stream",
          "text": [
            "img:  [0.99607843 0.99607843 0.99607843]\n",
            "labels b'dog'\n",
            "img:  [0.32156864 0.32156864 0.32156864 1.        ]\n",
            "labels b'cat'\n",
            "img:  [0.9696954  0.20891106 0.24420518]\n",
            "labels b'dog'\n"
          ],
          "name": "stdout"
        }
      ]
    },
    {
      "cell_type": "markdown",
      "metadata": {
        "id": "H4VZ1WzgsTTE"
      },
      "source": [
        "END\n",
        "\n"
      ]
    }
  ]
}